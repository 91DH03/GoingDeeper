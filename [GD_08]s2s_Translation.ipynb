{
  "nbformat": 4,
  "nbformat_minor": 0,
  "metadata": {
    "colab": {
      "name": "[GD-08]s2s_Translation",
      "provenance": [],
      "collapsed_sections": [],
      "machine_shape": "hm"
    },
    "kernelspec": {
      "name": "python3",
      "display_name": "Python 3"
    },
    "language_info": {
      "name": "python"
    },
    "accelerator": "GPU"
  },
  "cells": [
    {
      "cell_type": "markdown",
      "source": [
        "| 평가문항 | 상세기준 |\n",
        "| --- | --- |\n",
        "| 1. 번역기 모델 학습에 필요한 텍스트 데이터 전처리가 한국어 포함하여 잘 이루어졌다. | 구두점, 대소문자, 띄어쓰기, 한글 형태소분석 등 번역기 모델에 요구되는 전처리가 정상적으로 진행되었다. |\n",
        "| 2. Attentional Seq2seq 모델이 정상적으로 구동된다. | seq2seq 모델 훈련 과정에서 training loss가 안정적으로 떨어지면서 학습이 진행됨이 확인되었다. |\n",
        "| 3. 테스트 결과 의미가 통하는 수준의 번역문이 생성되었다. | 테스트용 디코더 모델이 정상적으로 만들어져서, 정답과 어느 정도 유사한 영어 번역이 진행됨을 확인하였다. |"
      ],
      "metadata": {
        "id": "JGdjkE6pmvjD"
      }
    },
    {
      "cell_type": "markdown",
      "source": [
        "**Step 1. 데이터 다운로드**\n",
        "\n",
        "아래 링크에서 korean-english-park.train.tar.gz 를 다운로드받아 한영 병렬 데이터를 확보합니다.\n",
        "\n",
        "- [jungyeul/korean-parallel-corpora](https://github.com/jungyeul/korean-parallel-corpora/tree/master/korean-english-news-v1)\n",
        "\n",
        "**Step 2. 데이터 정제**\n",
        "\n",
        "set 데이터형이 중복을 허용하지 않는다는 것을 활용해 중복된 데이터를 제거하도록 합니다. 데이터의 병렬 쌍이 흐트러지지 않게 주의하세요! 중복을 제거한 데이터를 cleaned_corpus 에 저장합니다.\n",
        "\n",
        "앞서 정의한 preprocessing() 함수는 한글에서는 동작하지 않습니다. 한글에 적용할 수 있는 정규식을 추가하여 함수를 재정의하세요!\n",
        "\n",
        "타겟 언어인 영문엔 <start> 토큰과 <end> 토큰을 추가하고 split() 함수를 이용하여 토큰화합니다. 한글 토큰화는 KoNLPy의 mecab 클래스를 사용합니다.\n",
        "\n",
        "모든 데이터를 사용할 경우 학습에 굉장히 오랜 시간이 걸립니다. cleaned_corpus로부터 토큰의 길이가 40 이하인 데이터를 선별하여 eng_corpus와 kor_corpus를 각각 구축하세요.\n",
        "\n",
        "**Step 3. 데이터 토큰화**\n",
        "\n",
        "앞서 정의한 tokenize() 함수를 사용해 데이터를 텐서로 변환하고 각각의 tokenizer를 얻으세요! 단어의 수는 실험을 통해 적당한 값을 맞춰주도록 합니다! (최소 10,000 이상!)\n",
        "\n",
        "❗ 주의: 난이도에 비해 데이터가 많지 않아 훈련 데이터와 검증 데이터를 따로 나누지는 않습니다.\n",
        "\n",
        "**Step 4. 모델 설계**\n",
        "\n",
        "한국어를 영어로 잘 번역해 줄 멋진 Attention 기반 Seq2seq 모델을 설계하세요! 앞서 만든 모델에 Dropout 모듈을 추가하면 성능이 더 좋아집니다! Embedding Size와 Hidden Size는 실험을 통해 적당한 값을 맞춰 주도록 합니다!\n",
        "\n",
        "**Step 5. 훈련하기**\n",
        "\n",
        "훈련엔 위에서 사용한 코드를 그대로 사용하되, eval_step() 부분이 없음에 유의합니다! 매 스텝 아래의 예문에 대한 번역을 생성하여 본인이 생각하기에 가장 멋지게 번역한 Case를 제출하세요! (Attention Map을 시각화해보는 것도 재밌을 거예요!)\n",
        "\n",
        "❕ 참고: 데이터의 난이도가 높은 편이므로 생각만큼 결과가 잘 안나올 수 있습니다.\n",
        "```\n",
        "## 예문 ##\n",
        "K1) 오바마는 대통령이다.\n",
        "K2) 시민들은 도시 속에 산다.\n",
        "K3) 커피는 필요 없다.\n",
        "K4) 일곱 명의 사망자가 발생했다.\n",
        "\n",
        "## 제출 ##\n",
        "E1) obama is the president . <end>\n",
        "E2) people are victims of the city . <end>\n",
        "E2) the price is not enough . <end>\n",
        "E2) seven people have died . <end>\n",
        "```"
      ],
      "metadata": {
        "id": "hTAjqrCrm85a"
      }
    },
    {
      "cell_type": "markdown",
      "source": [
        "# 0. 필요한 모듈 및 라이브러리 import"
      ],
      "metadata": {
        "id": "Yr87AvHgnYs2"
      }
    },
    {
      "cell_type": "code",
      "execution_count": null,
      "metadata": {
        "colab": {
          "base_uri": "https://localhost:8080/"
        },
        "id": "T9jE8Ccpw51d",
        "outputId": "52c20690-b2a0-4c12-9def-8ca8036630c4"
      },
      "outputs": [
        {
          "output_type": "stream",
          "name": "stdout",
          "text": [
            "2.8.0\n"
          ]
        }
      ],
      "source": [
        "import tensorflow as tf\n",
        "import numpy as np\n",
        "\n",
        "from sklearn.model_selection import train_test_split\n",
        "\n",
        "import matplotlib.ticker as ticker\n",
        "import matplotlib.pyplot as plt\n",
        "\n",
        "import time\n",
        "import re\n",
        "import os\n",
        "import io\n",
        "import random\n",
        "\n",
        "print(tf.__version__)"
      ]
    },
    {
      "cell_type": "markdown",
      "source": [
        "# 1. 데이터 전처리\n",
        "- 데이터 불러오기"
      ],
      "metadata": {
        "id": "-pZrZhggngJh"
      }
    },
    {
      "cell_type": "code",
      "source": [
        "file_path = '/content/drive/MyDrive/Aiffel/GD8/data'\n",
        "print(file_path)"
      ],
      "metadata": {
        "id": "xAj5KKqw1eNm"
      },
      "execution_count": null,
      "outputs": []
    },
    {
      "cell_type": "code",
      "source": [
        "!apt-get install -y -qq software-properties-common python-software-properties module-init-tools\n",
        "\n",
        "!add-apt-repository -y ppa:alessandro-strada/ppa 2>&1 > /dev/null\n",
        "\n",
        "!apt-get update -qq 2>&1 > /dev/null\n",
        "\n",
        "!apt-get -y install -qq google-drive-ocamlfuse fuse\n",
        "\n",
        "from google.colab import auth\n",
        "auth.authenticate_user()\n",
        "\n",
        "from oauth2client.client import GoogleCredentials\n",
        "creds = GoogleCredentials.get_application_default()\n",
        "\n",
        "import getpass\n",
        "!google-drive-ocamlfuse -headless -id={creds.client_id} -secret={creds.client_secret} < /dev/null 2>&1 | grep URL\n",
        "\n",
        "vcode = getpass.getpass()\n",
        "\n",
        "!echo {vcode} | google-drive-ocamlfuse -headless -id={creds.client_id} -secret={creds.client_secret}"
      ],
      "metadata": {
        "id": "dyJe3Mfs_8ll"
      },
      "execution_count": null,
      "outputs": []
    },
    {
      "cell_type": "code",
      "source": [
        "!mkdir -p Gdrive\n",
        "!google-drive-ocamlfuse Gdrive\n",
        "!ls Gdriv"
      ],
      "metadata": {
        "id": "-DcWsxFM_--B"
      },
      "execution_count": null,
      "outputs": []
    },
    {
      "cell_type": "code",
      "source": [
        "def load_file(file_name):\n",
        "    with open(file_path+'/{}'.format(file_name), \"r\") as f:\n",
        "        raw = f.read().splitlines()\n",
        "\n",
        "    print(\"Data Size:\", len(raw))\n",
        "    print(\"Example:\")\n",
        "\n",
        "    for sen in raw[0:100][::20]: \n",
        "        print(\">>\", sen)\n",
        "    \n",
        "    return raw"
      ],
      "metadata": {
        "id": "mOxR8TJR1eLS"
      },
      "execution_count": null,
      "outputs": []
    },
    {
      "cell_type": "code",
      "source": [
        "raw_kor = load_file('korean-english-park.train.ko')\n",
        "raw_kor += load_file('korean-english-park.dev.ko')\n",
        "raw_kor += load_file('korean-english-park.test.ko')\n",
        "print('total data size:', len(raw_kor))"
      ],
      "metadata": {
        "colab": {
          "base_uri": "https://localhost:8080/"
        },
        "id": "3ldTvfkB1eI6",
        "outputId": "5644062a-1552-40f6-86db-512dce7e4c61"
      },
      "execution_count": null,
      "outputs": [
        {
          "output_type": "stream",
          "name": "stdout",
          "text": [
            "Data Size: 94123\n",
            "Example:\n",
            ">> 개인용 컴퓨터 사용의 상당 부분은 \"이것보다 뛰어날 수 있느냐?\"\n",
            ">> 북한의 핵무기 계획을 포기하도록 하려는 압력이 거세지고 있는 가운데, 일본과 북한의 외교관들이 외교 관계를 정상화하려는 회담을 재개했다.\n",
            ">> \"경호 로보트가 침입자나 화재를 탐지하기 위해서 개인적으로, 그리고 전문적으로 사용되고 있습니다.\"\n",
            ">> 수자원부 당국은 논란이 되고 있고, 막대한 비용이 드는 이 사업에 대해 내년에 건설을 시작할 계획이다.\n",
            ">> 또한 근력 운동은 활발하게 걷는 것이나 최소한 20분 동안 뛰는 것과 같은 유산소 활동에서 얻는 운동 효과를 심장과 폐에 주지 않기 때문에, 연구학자들은 근력 운동이 심장에 큰 영향을 미치는지 여부에 대해 논쟁을 해왔다.\n",
            "Data Size: 1000\n",
            "Example:\n",
            ">> 세계 에서 가장 강력한 수퍼컴퓨터를 1년 동안이나 독점해 오던 정부의 연구학자들이 이 1억1천만 달러 짜리 경이로운 설비를 공개하며, 이것이 핵전쟁으로부터 세계를 구하는데 도움이 될지도 모른다고 말했다.\n",
            ">> 무기 사찰관들의 복귀에 대하여 이라크 측의 한 관리가 \"유익하고 효과적인\" 논의였다고 말한 회합에서 유엔 무기 사찰단장이 이라크 대표단을 만났다.\n",
            ">> 하드웨어를 구입하는 비용의 문제가 커다란 장애입니다.\n",
            ">> 토의에 참가한 대부분의 사람들은 정부가 통신 내용을 도청할 수 있는 권리를 보유해야 할 필요성이 있는 합법적인 부분도 있다는 데에 동의를 한다.\n",
            ">> 그는 눈에 띄지 않게 행동하는 것으로 알려져있다. 그는 영국 시사잡지 타임즈에서 “파티에 잘 참석하지 않는다”며 자신의 생활에 대한 날조된 이야기를 즐기고 있다.\n",
            "Data Size: 2000\n",
            "Example:\n",
            ">> 토론에 참여한 사람들은 법 집행과 국가 안전보장에 대한 우려를 표명해야 할 필요성을 진지하게 받아 들이고 있습니다.\n",
            ">> 비록 그 위협(의 가능성)은 적지만, 그 잠재적인 영향력은 가히 파괴적인 것이다.\n",
            ">> 한국은 세계 에서 네번째로 원유를 많이 수입하는 나라이며, 전적으로 원유 수입에 의존하고 있다.\n",
            ">> 불과 1,379년 전이다.\n",
            ">> 대신, 그들은 \"안정\"이라는 면에서 서방 세계와 똑같은 이해 관계를 갖고 있는 각 지역의 소수 엘리트를 대표하고 있다.\n",
            "total data size: 97123\n"
          ]
        }
      ]
    },
    {
      "cell_type": "code",
      "source": [
        "raw_en = load_file('korean-english-park.train.en')\n",
        "raw_en += load_file('korean-english-park.dev.en')\n",
        "raw_en += load_file('korean-english-park.test.en')\n",
        "print('total data size:', len(raw_en))"
      ],
      "metadata": {
        "colab": {
          "base_uri": "https://localhost:8080/"
        },
        "id": "rfih_ttG1eGk",
        "outputId": "7a60505e-dd0e-402b-dc11-abf018487327"
      },
      "execution_count": null,
      "outputs": [
        {
          "output_type": "stream",
          "name": "stdout",
          "text": [
            "Data Size: 94123\n",
            "Example:\n",
            ">> Much of personal computing is about \"can you top this?\"\n",
            ">> Amid mounting pressure on North Korea to abandon its nuclear weapons program Japanese and North Korean diplomats have resumed talks on normalizing diplomatic relations.\n",
            ">> “Guard robots are used privately and professionally to detect intruders or fire,” Karlsson said.\n",
            ">> Authorities from the Water Resources Ministry plan to begin construction next year on the controversial and hugely expensive project.\n",
            ">> Researchers also have debated whether weight-training has a big impact on the heart, since it does not give the heart and lungs the kind of workout they get from aerobic activities such as brisk walking or running for at least 20 minutes.\n",
            "Data Size: 1000\n",
            "Example:\n",
            ">> After keeping the world's most powerful supercomputer to themselves for a year, government researchers showed off the $110 million wonder and said it might help save the world from nuclear war.\n",
            ">> The head of the U.N. weapons inspection team met with an Iraqi delegation in what a Baghdad official called \"useful and fruitful\" discussions on the return of weapons inspectors.\n",
            ">> \"The issue of it just being a hardware expense is a serious impediment.\n",
            ">> Most of the people involved in the discussion agree that there is a legitimate area in which the government needs to retain the right to intercept communications.\n",
            ">> He's been known to keep a low profile \"You will never see me at a party,\" he told the Times of London and delights in concocting stories about his life.\n",
            "Data Size: 2000\n",
            "Example:\n",
            ">> Those involved in the discussions do take seriously the need to address concerns of law enforcement and national security.\n",
            ">> Even though the threat is small, the potential effects are devastating.\n",
            ">> South Korea is the world's fourth largest oil importer and wholly depends on imports of crude.\n",
            ">> That is only 1,379 years ago.\n",
            ">> Instead, they represent a small elite in each place that has a common interest with the West in “stability.”\n",
            "total data size: 97123\n"
          ]
        }
      ]
    },
    {
      "cell_type": "code",
      "source": [
        "print('korean data size:', len(raw_kor))\n",
        "print('english data size:', len(raw_en))"
      ],
      "metadata": {
        "colab": {
          "base_uri": "https://localhost:8080/"
        },
        "id": "tepFfSM01d-f",
        "outputId": "a68ed9ec-fd7d-44df-c1c7-74e99c47b4e5"
      },
      "execution_count": null,
      "outputs": [
        {
          "output_type": "stream",
          "name": "stdout",
          "text": [
            "korean data size: 97123\n",
            "english data size: 97123\n"
          ]
        }
      ]
    },
    {
      "cell_type": "markdown",
      "source": [
        "- 중복데이터를 제거해줌(input, output 데이터의 쌍을 유지 시켜주어야 한다.)"
      ],
      "metadata": {
        "id": "7DE20eJkn6gL"
      }
    },
    {
      "cell_type": "code",
      "source": [
        "raw = zip(raw_kor, raw_en)\n",
        "raw"
      ],
      "metadata": {
        "colab": {
          "base_uri": "https://localhost:8080/"
        },
        "id": "15-5IZRE6nZM",
        "outputId": "da1e176c-bd23-43d1-a99a-e8411459aace"
      },
      "execution_count": null,
      "outputs": [
        {
          "output_type": "execute_result",
          "data": {
            "text/plain": [
              "<zip at 0x7febf43fbeb0>"
            ]
          },
          "metadata": {},
          "execution_count": 11
        }
      ]
    },
    {
      "cell_type": "code",
      "source": [
        "set_raw = set(raw)"
      ],
      "metadata": {
        "id": "_P0n2clP6nXF"
      },
      "execution_count": null,
      "outputs": []
    },
    {
      "cell_type": "code",
      "source": [
        "len(set_raw)"
      ],
      "metadata": {
        "colab": {
          "base_uri": "https://localhost:8080/"
        },
        "id": "Qbbb8lpc6nUh",
        "outputId": "f4515542-eb61-4cd5-d877-294858058e0e"
      },
      "execution_count": null,
      "outputs": [
        {
          "output_type": "execute_result",
          "data": {
            "text/plain": [
              "81959"
            ]
          },
          "metadata": {},
          "execution_count": 13
        }
      ]
    },
    {
      "cell_type": "code",
      "source": [
        "cleaned_corpus_kor, cleaned_corpus_eng = zip(*set_raw)"
      ],
      "metadata": {
        "id": "ip3RJNkV6nSQ"
      },
      "execution_count": null,
      "outputs": []
    },
    {
      "cell_type": "code",
      "source": [
        "print('korean data size:', len(cleaned_corpus_kor))\n",
        "print('english data size:', len(cleaned_corpus_eng))"
      ],
      "metadata": {
        "colab": {
          "base_uri": "https://localhost:8080/"
        },
        "id": "R_Xnw8dq6nP6",
        "outputId": "9cad92fa-0020-4199-e417-3f9ef0f7858b"
      },
      "execution_count": null,
      "outputs": [
        {
          "output_type": "stream",
          "name": "stdout",
          "text": [
            "korean data size: 81959\n",
            "english data size: 81959\n"
          ]
        }
      ]
    },
    {
      "cell_type": "code",
      "source": [
        "cleaned_corpus_kor[100]"
      ],
      "metadata": {
        "colab": {
          "base_uri": "https://localhost:8080/",
          "height": 35
        },
        "id": "r07nSQpl6nNQ",
        "outputId": "ef994152-b334-4b24-ff6c-5d6ba73fd793"
      },
      "execution_count": null,
      "outputs": [
        {
          "output_type": "execute_result",
          "data": {
            "text/plain": [
              "'한편 미국은 공을 소유하는데 어려움을 겪었으며 코너킥이나 프리킥도 불안정 했다.'"
            ],
            "application/vnd.google.colaboratory.intrinsic+json": {
              "type": "string"
            }
          },
          "metadata": {},
          "execution_count": 16
        }
      ]
    },
    {
      "cell_type": "code",
      "source": [
        "cleaned_corpus_eng[100]"
      ],
      "metadata": {
        "colab": {
          "base_uri": "https://localhost:8080/",
          "height": 54
        },
        "id": "RueGrNtx6nK-",
        "outputId": "2423eac9-d75c-4146-b9e2-53643d0238fd"
      },
      "execution_count": null,
      "outputs": [
        {
          "output_type": "execute_result",
          "data": {
            "text/plain": [
              "'The Americans had trouble keeping possession, but still managed threats in spurts, looking dangerous on several corners and free kicks.'"
            ],
            "application/vnd.google.colaboratory.intrinsic+json": {
              "type": "string"
            }
          },
          "metadata": {},
          "execution_count": 17
        }
      ]
    },
    {
      "cell_type": "markdown",
      "source": [
        "- 한국어 전처리 \n",
        "- \\\\, \\ 토큰 추가"
      ],
      "metadata": {
        "id": "6BDCwqfynsYP"
      }
    },
    {
      "cell_type": "code",
      "source": [
        "def preprocess_sentence(sentence, s_token=False, e_token=False):\n",
        "    sentence = sentence.lower().strip()\n",
        "\n",
        "    sentence = re.sub(r\"([?.!,])\", r\" \\1 \", sentence)\n",
        "    sentence = re.sub(r'[\" \"]+', \" \", sentence)\n",
        "    sentence = re.sub(r\"[^a-zA-Z?.!가-힣ㄱ-ㅎㅏ-ㅣ]+\", \" \", sentence)\n",
        "\n",
        "    sentence = sentence.strip()\n",
        "\n",
        "    if s_token:\n",
        "        sentence = '<start> ' + sentence\n",
        "\n",
        "    if e_token:\n",
        "        sentence += ' <end>'\n",
        "    \n",
        "    return sentence"
      ],
      "metadata": {
        "id": "dBgTA9CZ6nIm"
      },
      "execution_count": null,
      "outputs": []
    },
    {
      "cell_type": "code",
      "source": [
        "for kor, eng in zip(cleaned_corpus_kor, cleaned_corpus_eng):\n",
        "    print(kor, eng)\n",
        "    break"
      ],
      "metadata": {
        "colab": {
          "base_uri": "https://localhost:8080/"
        },
        "id": "0hDxjkRo6nGM",
        "outputId": "ee1a7323-975c-40c8-9431-86bfafe05f26"
      },
      "execution_count": null,
      "outputs": [
        {
          "output_type": "stream",
          "name": "stdout",
          "text": [
            "그녀는 야자수 모양의 귀걸이와 1월 18일에서 20일까지 열리는 아르데코 축제를 알리는 기념 티셔츠를 입고 관광 투어에 나섰다. She wore palm tree-shaped earrings, a gold-and-black speckled visor and a T-shirt promoting the annual weekend event celebrating Art Deco, which was scheduled this year for January 18-20.\n"
          ]
        }
      ]
    },
    {
      "cell_type": "code",
      "source": [
        "enc_corpus = []\n",
        "dec_corpus = []\n",
        "\n",
        "# num_examples = 30000\n",
        "cnt=0\n",
        "for kor, eng in zip(cleaned_corpus_kor, cleaned_corpus_eng):\n",
        "    temp_kor = preprocess_sentence(kor)\n",
        "    temp_eng = preprocess_sentence(eng, s_token=True, e_token=True)\n",
        "\n",
        "    if len(temp_kor) <= 40:\n",
        "        enc_corpus.append(temp_kor)\n",
        "        dec_corpus.append(temp_eng)\n",
        "    \n",
        "print('korean data size:', len(enc_corpus))\n",
        "print('english data size:', len(dec_corpus))\n",
        "print(\"Korean:\", enc_corpus[500])   \n",
        "print(\"English:\", dec_corpus[500])  "
      ],
      "metadata": {
        "colab": {
          "base_uri": "https://localhost:8080/"
        },
        "id": "h0hUl3US6nD6",
        "outputId": "930aeb6d-ccc2-45fb-c6a3-6abbdda07616"
      },
      "execution_count": null,
      "outputs": [
        {
          "output_type": "stream",
          "name": "stdout",
          "text": [
            "korean data size: 17055\n",
            "english data size: 17055\n",
            "Korean: 사고 원인은 공식적으로 발표되지 않았다 .\n",
            "English: <start> there was no immediate official word on what caused the collapse in residential zeytinburnu district . <end>\n"
          ]
        }
      ]
    },
    {
      "cell_type": "markdown",
      "source": [
        "- 데이터 자체의 신뢰도가 낮은 것을 확인 할 수 있다.\n",
        "- 해석이 다른 문장이 짝으로 구성 되어있다."
      ],
      "metadata": {
        "id": "IlOInvBeoCo4"
      }
    },
    {
      "cell_type": "code",
      "source": [
        "print(\"Korean:\", enc_corpus[100])   \n",
        "print(\"English:\", dec_corpus[100])  "
      ],
      "metadata": {
        "colab": {
          "base_uri": "https://localhost:8080/"
        },
        "id": "qMeoPLXU6nBX",
        "outputId": "a8499d21-448f-4b9f-ccae-2b663e12cb3f"
      },
      "execution_count": null,
      "outputs": [
        {
          "output_type": "stream",
          "name": "stdout",
          "text": [
            "Korean: 주가는 오늘 비관적인 소식에도 불구하고 상승세를 타고 있습니다 .\n",
            "English: <start> stock prices are up on downbeat news today . <end>\n"
          ]
        }
      ]
    },
    {
      "cell_type": "code",
      "source": [
        "print(\"Korean:\", cleaned_corpus_kor[10])   \n",
        "print(\"English:\", cleaned_corpus_eng[10])  "
      ],
      "metadata": {
        "colab": {
          "base_uri": "https://localhost:8080/"
        },
        "id": "oHbZiF0x6m_U",
        "outputId": "efea6fc4-707a-4e71-ba30-60cceb76f1f1"
      },
      "execution_count": null,
      "outputs": [
        {
          "output_type": "stream",
          "name": "stdout",
          "text": [
            "Korean: 오늘까지　이라크에서 숨진 영국군은　총 142명에 달한다.\n",
            "English: The dead were from the Royal Air Force and British army, Browne said.\n"
          ]
        }
      ]
    },
    {
      "cell_type": "markdown",
      "source": [
        "# 2. 데이터 토큰화\n",
        "- 한국어는 konlpy의 mecab 클래스를 사용하여 토큰화함"
      ],
      "metadata": {
        "id": "cUbMiDkAoLOg"
      }
    },
    {
      "cell_type": "code",
      "source": [
        "!pip install mecab-python3"
      ],
      "metadata": {
        "id": "Kk-ghn8Y7CC_"
      },
      "execution_count": null,
      "outputs": []
    },
    {
      "cell_type": "code",
      "source": [
        "!sudo apt-get install curl\n",
        "!bash <(curl -s https://raw.githubusercontent.com/konlpy/konlpy/master/scripts/mecab.sh)"
      ],
      "metadata": {
        "id": "OmUDsuTYBUjf"
      },
      "execution_count": null,
      "outputs": []
    },
    {
      "cell_type": "code",
      "source": [
        "!git clone https://bitbucket.org/eunjeon/mecab-python-0.996.git"
      ],
      "metadata": {
        "id": "gTBv3ZWcBWmI"
      },
      "execution_count": null,
      "outputs": []
    },
    {
      "cell_type": "code",
      "source": [
        "cd /mecab-python-0.996"
      ],
      "metadata": {
        "id": "y6TxDc2ABWj9"
      },
      "execution_count": null,
      "outputs": []
    },
    {
      "cell_type": "code",
      "source": [
        "!python setup.py build\n",
        "!python setup.py install"
      ],
      "metadata": {
        "id": "xlkEOVBGBWg4"
      },
      "execution_count": null,
      "outputs": []
    },
    {
      "cell_type": "code",
      "source": [
        "# %%bash\n",
        "# apt-get update\n",
        "# apt-get install g++ openjdk-8-jdk python-dev python3-dev\n",
        "# pip3 install JPype1\n",
        "# pip3 install konlpy"
      ],
      "metadata": {
        "id": "DK4ZVUwI7tL3"
      },
      "execution_count": null,
      "outputs": []
    },
    {
      "cell_type": "code",
      "source": [
        "# %env JAVA_HOME \"/usr/lib/jvm/java-8-openjdk-amd64\""
      ],
      "metadata": {
        "id": "S7voaJ9d7vmr"
      },
      "execution_count": null,
      "outputs": []
    },
    {
      "cell_type": "code",
      "source": [
        "# %%bash\n",
        "# bash <(curl -s https://raw.githubusercontent.com/konlpy/konlpy/master/scripts/mecab.sh)\n",
        "# pip3 install /tmp/mecab-python-0.996"
      ],
      "metadata": {
        "id": "TgvVQmpW7xZS"
      },
      "execution_count": null,
      "outputs": []
    },
    {
      "cell_type": "code",
      "source": [
        "# ! pip3 install mecab-python3"
      ],
      "metadata": {
        "id": "K8BtTYup_gSz"
      },
      "execution_count": null,
      "outputs": []
    },
    {
      "cell_type": "code",
      "source": [
        "!cd /tmp\n",
        "! sudo wget https://bitbucket.org/eunjeon/mecab-ko/downloads/mecab-0.996-ko-0.9.2.tar.gz\n",
        "! sudo tar xvf mecab-0.996-ko-0.9.2.tar.gz\n",
        "\n",
        "!cd /tmp/mecab-0.996-ko-0.9.2\n",
        "!sudo ./configure\n",
        "!sudo make check\n",
        "!sudo make install"
      ],
      "metadata": {
        "id": "5D_hZQMJCotm"
      },
      "execution_count": null,
      "outputs": []
    },
    {
      "cell_type": "code",
      "source": [
        "! pip install konlpy"
      ],
      "metadata": {
        "id": "KHjravZUWP2k"
      },
      "execution_count": null,
      "outputs": []
    },
    {
      "cell_type": "code",
      "source": [
        "!cd /tmp\n",
        "!git clone https://bitbucket.org/eunjeon/mecab-python-0.996.git\n",
        "!cd mecab-python-0.996\n",
        "!python3 setup.py build\n",
        "!python3 setup.py install"
      ],
      "metadata": {
        "id": "8w2RewdKCpXJ"
      },
      "execution_count": null,
      "outputs": []
    },
    {
      "cell_type": "code",
      "source": [
        "import konlpy\n",
        "from konlpy.tag import Kkma, Komoran, Hannanum, Okt\n",
        "from konlpy.utils import pprint\n",
        "from konlpy.tag import Mecab"
      ],
      "metadata": {
        "id": "w4kxcji3743_"
      },
      "execution_count": null,
      "outputs": []
    },
    {
      "cell_type": "code",
      "source": [
        "vocab_size = 50000\n",
        "def tokenize(corpus, kor=False, eng=True):\n",
        "    if kor:\n",
        "        mecab = Mecab()\n",
        "        morph = [\" \".join(mecab.morphs(sen)) for sen in corpus]\n",
        "        tokenizer = tf.keras.preprocessing.text.Tokenizer(filters='',\n",
        "                                                         num_words=vocab_size)\n",
        "        tokenizer.fit_on_texts(morph)\n",
        "\n",
        "        tensor = tokenizer.texts_to_sequences(morph)\n",
        "        tensor = tf.keras.preprocessing.sequence.pad_sequences(tensor, padding='post')\n",
        "\n",
        "        \n",
        "    if eng:\n",
        "        tokenizer = tf.keras.preprocessing.text.Tokenizer(filters='',\n",
        "                                                         num_words=vocab_size)\n",
        "        tokenizer.fit_on_texts(corpus)\n",
        "\n",
        "        tensor = tokenizer.texts_to_sequences(corpus)\n",
        "        tensor = tf.keras.preprocessing.sequence.pad_sequences(tensor, padding='post')\n",
        "\n",
        "    return tensor, tokenizer"
      ],
      "metadata": {
        "id": "NJjzkleM6m8y"
      },
      "execution_count": null,
      "outputs": []
    },
    {
      "cell_type": "code",
      "source": [
        "enc_tensor, enc_tokenizer = tokenize(enc_corpus, kor=True)\n",
        "dec_tensor, dec_tokenizer = tokenize(dec_corpus, eng=True)\n",
        "\n",
        "enc_train, enc_val, dec_train, dec_val = \\\n",
        "train_test_split(enc_tensor, dec_tensor, test_size=0.2)\n",
        "\n",
        "print(\"Korean Vocab Size:\", len(enc_tokenizer.index_word))\n",
        "print(\"English Vocab Size:\", len(dec_tokenizer.index_word))"
      ],
      "metadata": {
        "id": "bAKTPaQT6m6S",
        "colab": {
          "base_uri": "https://localhost:8080/"
        },
        "outputId": "f6bc1f38-ac16-4bbb-f414-0673566a48b4"
      },
      "execution_count": null,
      "outputs": [
        {
          "output_type": "stream",
          "name": "stdout",
          "text": [
            "Korean Vocab Size: 41796\n",
            "English Vocab Size: 17325\n"
          ]
        }
      ]
    },
    {
      "cell_type": "markdown",
      "source": [
        "# 3. 모델 설계"
      ],
      "metadata": {
        "id": "DfKPcxI5oboW"
      }
    },
    {
      "cell_type": "code",
      "source": [
        "class BahdanauAttention(tf.keras.layers.Layer):\n",
        "    def __init__(self, units):\n",
        "        super(BahdanauAttention, self).__init__()\n",
        "        self.w_dec = tf.keras.layers.Dense(units)\n",
        "        self.w_enc = tf.keras.layers.Dense(units)\n",
        "        self.w_com = tf.keras.layers.Dense(1)\n",
        "    \n",
        "    def call(self, h_enc, h_dec):\n",
        "        # h_enc shape: [batch x length x units]\n",
        "        # h_dec shape: [batch x units]\n",
        "\n",
        "        h_enc = self.w_enc(h_enc)\n",
        "        h_dec = tf.expand_dims(h_dec, 1)\n",
        "        h_dec = self.w_dec(h_dec)\n",
        "\n",
        "        score = self.w_com(tf.nn.tanh(h_dec + h_enc))\n",
        "        \n",
        "        attn = tf.nn.softmax(score, axis=1)\n",
        "\n",
        "        context_vec = attn * h_enc\n",
        "        context_vec = tf.reduce_sum(context_vec, axis=1)\n",
        "\n",
        "        return context_vec, attn"
      ],
      "metadata": {
        "id": "r56lz-nR6m34"
      },
      "execution_count": null,
      "outputs": []
    },
    {
      "cell_type": "code",
      "source": [
        "class Encoder(tf.keras.Model):\n",
        "    def __init__(self, vocab_size, embedding_dim, enc_units):\n",
        "        super(Encoder, self).__init__()\n",
        "\n",
        "        self.enc_units = enc_units\n",
        "        self.embedding = tf.keras.layers.Embedding(vocab_size, embedding_dim)\n",
        "        self.gru = tf.keras.layers.GRU(enc_units,\n",
        "                                       return_sequences=True)\n",
        "\n",
        "    def call(self, x):\n",
        "        out = self.embedding(x)\n",
        "        out = self.gru(out)\n",
        "\n",
        "        return out"
      ],
      "metadata": {
        "id": "L2DQFUXP6mwp"
      },
      "execution_count": null,
      "outputs": []
    },
    {
      "cell_type": "code",
      "source": [
        "class Decoder(tf.keras.Model):\n",
        "    def __init__(self, vocab_size, embedding_dim, dec_units):\n",
        "        super(Decoder, self).__init__()\n",
        "        self.dec_units = dec_units\n",
        "        self.embedding = tf.keras.layers.Embedding(vocab_size, embedding_dim)\n",
        "        self.gru = tf.keras.layers.GRU(dec_units,\n",
        "                                       return_sequences=True,\n",
        "                                       return_state=True)\n",
        "        self.fc = tf.keras.layers.Dense(vocab_size)\n",
        "\n",
        "        self.attention = BahdanauAttention(self.dec_units)\n",
        "\n",
        "    def call(self, x, h_dec, enc_out):\n",
        "        context_vec, attn = self.attention(enc_out, h_dec)\n",
        "\n",
        "        out = self.embedding(x)\n",
        "        out = tf.concat([tf.expand_dims(context_vec, 1), out], axis=-1)\n",
        "\n",
        "        out, h_dec = self.gru(out)\n",
        "        out = tf.reshape(out, (-1, out.shape[2]))\n",
        "        out = self.fc(out)\n",
        "\n",
        "        return out, h_dec, attn"
      ],
      "metadata": {
        "id": "WDDXRHpvXGoj"
      },
      "execution_count": null,
      "outputs": []
    },
    {
      "cell_type": "code",
      "source": [
        "# 코드를 실행하세요.\n",
        "\n",
        "BATCH_SIZE     = 64\n",
        "SRC_VOCAB_SIZE = len(enc_tokenizer.index_word) + 1 # 예: len(enc_tokenizer.index_word) + 1\n",
        "TGT_VOCAB_SIZE = len(dec_tokenizer.index_word) + 1 # 예: len(dec_tokenizer.index_word) + 1\n",
        "\n",
        "units         = 128\n",
        "embedding_dim = 128\n",
        "\n",
        "encoder = Encoder(SRC_VOCAB_SIZE, embedding_dim, units)\n",
        "decoder = Decoder(TGT_VOCAB_SIZE, embedding_dim, units)\n",
        "\n",
        "# sample input\n",
        "sequence_len = 40\n",
        "\n",
        "sample_enc = tf.random.uniform((BATCH_SIZE, sequence_len))\n",
        "sample_output = encoder(sample_enc)\n",
        "\n",
        "print ('Encoder Output:', sample_output.shape)\n",
        "\n",
        "sample_state = tf.random.uniform((BATCH_SIZE, units))\n",
        "\n",
        "sample_logits, h_dec, attn = decoder(tf.random.uniform((BATCH_SIZE, 1)),\n",
        "                                     sample_state, sample_output)\n",
        "\n",
        "print ('Decoder Output:', sample_logits.shape)\n",
        "print ('Decoder Hidden State:', h_dec.shape)\n",
        "print ('Attention:', attn.shape)"
      ],
      "metadata": {
        "colab": {
          "base_uri": "https://localhost:8080/"
        },
        "id": "hnr9kw_wXGmJ",
        "outputId": "754b936d-143d-4b79-9067-ce61063fd378"
      },
      "execution_count": null,
      "outputs": [
        {
          "output_type": "stream",
          "name": "stdout",
          "text": [
            "Encoder Output: (64, 40, 128)\n",
            "Decoder Output: (64, 17326)\n",
            "Decoder Hidden State: (64, 128)\n",
            "Attention: (64, 40, 1)\n"
          ]
        }
      ]
    },
    {
      "cell_type": "code",
      "source": [
        "optimizer = tf.keras.optimizers.Adam()\n",
        "loss_object = tf.keras.losses.SparseCategoricalCrossentropy(\n",
        "    from_logits=True, reduction='none')\n",
        "\n",
        "def loss_function(real, pred):\n",
        "    mask = tf.math.logical_not(tf.math.equal(real, 0))\n",
        "    loss = loss_object(real, pred)\n",
        "    \n",
        "    mask = tf.cast(mask, dtype=loss.dtype)\n",
        "    loss *= mask\n",
        "    \n",
        "    return tf.reduce_mean(loss)"
      ],
      "metadata": {
        "id": "SZmuT3mQXGin"
      },
      "execution_count": null,
      "outputs": []
    },
    {
      "cell_type": "code",
      "source": [
        "@tf.function\n",
        "def train_step(src, tgt, encoder, decoder, optimizer, dec_tok):\n",
        "    bsz = src.shape[0]\n",
        "    loss = 0\n",
        "\n",
        "    with tf.GradientTape() as tape:\n",
        "        enc_out = encoder(src)\n",
        "        h_dec = enc_out[:, -1]\n",
        "        \n",
        "        dec_src = tf.expand_dims([dec_tok.word_index['<start>']] * bsz, 1)\n",
        "\n",
        "        for t in range(1, tgt.shape[1]):\n",
        "            pred, h_dec, _ = decoder(dec_src, h_dec, enc_out)\n",
        "\n",
        "            loss += loss_function(tgt[:, t], pred)\n",
        "            dec_src = tf.expand_dims(tgt[:, t], 1)\n",
        "        \n",
        "    batch_loss = (loss / int(tgt.shape[1]))\n",
        "\n",
        "    variables = encoder.trainable_variables + decoder.trainable_variables\n",
        "    gradients = tape.gradient(loss, variables)\n",
        "    optimizer.apply_gradients(zip(gradients, variables))\n",
        "    \n",
        "    return batch_loss"
      ],
      "metadata": {
        "id": "PKhvl-67XGg4"
      },
      "execution_count": null,
      "outputs": []
    },
    {
      "cell_type": "code",
      "source": [
        "# eval_step() 정의하기\n",
        "# train_step() 이후 eval_step() 진행하도록 소스 수정하기\n",
        "# Define eval_step\n",
        "\n",
        "@tf.function\n",
        "def eval_step(src, tgt, encoder, decoder, dec_tok):\n",
        "    bsz = src.shape[0]\n",
        "    loss = 0\n",
        "\n",
        "    enc_out = encoder(src)\n",
        "\n",
        "    h_dec = enc_out[:, -1]\n",
        "\n",
        "    dec_src = tf.expand_dims([dec_tok.word_index['<start>']] * bsz, 1)\n",
        "\n",
        "    for t in range(1, tgt.shape[1]):\n",
        "        pred, h_dec, _ = decoder(dec_src, h_dec, enc_out)\n",
        "\n",
        "        loss += loss_function(tgt[:, t], pred)\n",
        "        dec_src = tf.expand_dims(tgt[:, t], 1)\n",
        "\n",
        "    batch_loss = (loss / int(tgt.shape[1]))\n",
        "\n",
        "    return batch_loss\n",
        "\n",
        "\n",
        "# Training Process\n",
        "\n",
        "from tqdm import tqdm\n",
        "\n",
        "EPOCHS = 30\n",
        "\n",
        "for epoch in range(EPOCHS):\n",
        "    total_loss = 0\n",
        "\n",
        "    idx_list = list(range(0, enc_train.shape[0], BATCH_SIZE))\n",
        "    random.shuffle(idx_list)\n",
        "    t = tqdm(idx_list)\n",
        "\n",
        "    for (batch, idx) in enumerate(t):\n",
        "        batch_loss = train_step(enc_train[idx:idx+BATCH_SIZE],\n",
        "                                dec_train[idx:idx+BATCH_SIZE],\n",
        "                                encoder,\n",
        "                                decoder,\n",
        "                                optimizer,\n",
        "                                dec_tokenizer)\n",
        "\n",
        "        total_loss += batch_loss\n",
        "\n",
        "        t.set_description_str('Epoch %2d' % (epoch + 1))\n",
        "        t.set_postfix_str('Loss %.4f' % (total_loss.numpy() / (batch + 1)))\n",
        "\n",
        "    test_loss = 0\n",
        "\n",
        "    idx_list = list(range(0, enc_val.shape[0], BATCH_SIZE))\n",
        "    random.shuffle(idx_list)\n",
        "    t = tqdm(idx_list)\n",
        "\n",
        "    for (test_batch, idx) in enumerate(t):\n",
        "        test_batch_loss = eval_step(enc_val[idx:idx+BATCH_SIZE],\n",
        "                                    dec_val[idx:idx+BATCH_SIZE],\n",
        "                                    encoder,\n",
        "                                    decoder,\n",
        "                                    dec_tokenizer)\n",
        "\n",
        "        test_loss += test_batch_loss\n",
        "\n",
        "        t.set_description_str('Test Epoch %2d' % (epoch + 1))\n",
        "        t.set_postfix_str('Test Loss %.4f' % (test_loss.numpy() / (test_batch + 1)))"
      ],
      "metadata": {
        "colab": {
          "base_uri": "https://localhost:8080/"
        },
        "id": "44kqSimWXGdk",
        "outputId": "692f9308-b364-4853-d622-aa7eba9ed6f2"
      },
      "execution_count": null,
      "outputs": [
        {
          "output_type": "stream",
          "name": "stderr",
          "text": [
            "Epoch  1: 100%|██████████| 214/214 [02:31<00:00,  1.42it/s, Loss 1.5200]\n",
            "Test Epoch  1: 100%|██████████| 54/54 [00:47<00:00,  1.14it/s, Test Loss 1.4461]\n",
            "Epoch  2: 100%|██████████| 214/214 [00:27<00:00,  7.79it/s, Loss 1.4410]\n",
            "Test Epoch  2: 100%|██████████| 54/54 [00:03<00:00, 17.75it/s, Test Loss 1.4557]\n",
            "Epoch  3: 100%|██████████| 214/214 [00:26<00:00,  8.01it/s, Loss 1.4403]\n",
            "Test Epoch  3: 100%|██████████| 54/54 [00:03<00:00, 17.64it/s, Test Loss 1.4617]\n",
            "Epoch  4: 100%|██████████| 214/214 [00:26<00:00,  7.99it/s, Loss 1.4403]\n",
            "Test Epoch  4: 100%|██████████| 54/54 [00:03<00:00, 17.69it/s, Test Loss 1.4652]\n",
            "Epoch  5: 100%|██████████| 214/214 [00:26<00:00,  7.95it/s, Loss 1.4405]\n",
            "Test Epoch  5: 100%|██████████| 54/54 [00:03<00:00, 17.93it/s, Test Loss 1.4682]\n",
            "Epoch  6: 100%|██████████| 214/214 [00:26<00:00,  8.08it/s, Loss 1.4401]\n",
            "Test Epoch  6: 100%|██████████| 54/54 [00:03<00:00, 17.85it/s, Test Loss 1.4706]\n",
            "Epoch  7: 100%|██████████| 214/214 [00:26<00:00,  8.05it/s, Loss 1.4403]\n",
            "Test Epoch  7: 100%|██████████| 54/54 [00:03<00:00, 17.91it/s, Test Loss 1.4743]\n",
            "Epoch  8: 100%|██████████| 214/214 [00:27<00:00,  7.72it/s, Loss 1.4400]\n",
            "Test Epoch  8: 100%|██████████| 54/54 [00:03<00:00, 17.33it/s, Test Loss 1.4693]\n",
            "Epoch  9: 100%|██████████| 214/214 [00:27<00:00,  7.67it/s, Loss 1.4008]\n",
            "Test Epoch  9: 100%|██████████| 54/54 [00:03<00:00, 17.77it/s, Test Loss 1.3840]\n",
            "Epoch 10: 100%|██████████| 214/214 [00:26<00:00,  8.02it/s, Loss 1.3351]\n",
            "Test Epoch 10: 100%|██████████| 54/54 [00:03<00:00, 17.46it/s, Test Loss 1.3540]\n",
            "Epoch 11: 100%|██████████| 214/214 [00:26<00:00,  8.01it/s, Loss 1.2930]\n",
            "Test Epoch 11: 100%|██████████| 54/54 [00:03<00:00, 17.97it/s, Test Loss 1.3261]\n",
            "Epoch 12: 100%|██████████| 214/214 [00:27<00:00,  7.88it/s, Loss 1.2513]\n",
            "Test Epoch 12: 100%|██████████| 54/54 [00:03<00:00, 17.74it/s, Test Loss 1.3076]\n",
            "Epoch 13: 100%|██████████| 214/214 [00:26<00:00,  7.98it/s, Loss 1.2125]\n",
            "Test Epoch 13: 100%|██████████| 54/54 [00:03<00:00, 17.69it/s, Test Loss 1.2952]\n",
            "Epoch 14: 100%|██████████| 214/214 [00:26<00:00,  8.06it/s, Loss 1.1754]\n",
            "Test Epoch 14: 100%|██████████| 54/54 [00:02<00:00, 18.04it/s, Test Loss 1.2868]\n",
            "Epoch 15: 100%|██████████| 214/214 [00:27<00:00,  7.92it/s, Loss 1.1405]\n",
            "Test Epoch 15: 100%|██████████| 54/54 [00:03<00:00, 17.15it/s, Test Loss 1.2838]\n",
            "Epoch 16: 100%|██████████| 214/214 [00:26<00:00,  8.06it/s, Loss 1.1078]\n",
            "Test Epoch 16: 100%|██████████| 54/54 [00:02<00:00, 18.02it/s, Test Loss 1.2869]\n",
            "Epoch 17: 100%|██████████| 214/214 [00:26<00:00,  7.95it/s, Loss 1.0769]\n",
            "Test Epoch 17: 100%|██████████| 54/54 [00:03<00:00, 17.60it/s, Test Loss 1.2927]\n",
            "Epoch 18: 100%|██████████| 214/214 [00:26<00:00,  7.99it/s, Loss 1.0466]\n",
            "Test Epoch 18: 100%|██████████| 54/54 [00:03<00:00, 17.59it/s, Test Loss 1.2958]\n",
            "Epoch 19: 100%|██████████| 214/214 [00:26<00:00,  8.09it/s, Loss 1.0165]\n",
            "Test Epoch 19: 100%|██████████| 54/54 [00:03<00:00, 17.48it/s, Test Loss 1.3034]\n",
            "Epoch 20: 100%|██████████| 214/214 [00:26<00:00,  7.98it/s, Loss 0.9869]\n",
            "Test Epoch 20: 100%|██████████| 54/54 [00:03<00:00, 17.88it/s, Test Loss 1.3096]\n",
            "Epoch 21: 100%|██████████| 214/214 [00:27<00:00,  7.90it/s, Loss 0.9587]\n",
            "Test Epoch 21: 100%|██████████| 54/54 [00:03<00:00, 17.69it/s, Test Loss 1.3206]\n",
            "Epoch 22: 100%|██████████| 214/214 [00:27<00:00,  7.92it/s, Loss 0.9313]\n",
            "Test Epoch 22: 100%|██████████| 54/54 [00:03<00:00, 17.10it/s, Test Loss 1.3347]\n",
            "Epoch 23: 100%|██████████| 214/214 [00:27<00:00,  7.80it/s, Loss 0.9046]\n",
            "Test Epoch 23: 100%|██████████| 54/54 [00:03<00:00, 16.93it/s, Test Loss 1.3486]\n",
            "Epoch 24: 100%|██████████| 214/214 [00:27<00:00,  7.84it/s, Loss 0.8785]\n",
            "Test Epoch 24: 100%|██████████| 54/54 [00:03<00:00, 17.86it/s, Test Loss 1.3563]\n",
            "Epoch 25: 100%|██████████| 214/214 [00:27<00:00,  7.90it/s, Loss 0.8532]\n",
            "Test Epoch 25: 100%|██████████| 54/54 [00:03<00:00, 17.20it/s, Test Loss 1.3743]\n",
            "Epoch 26: 100%|██████████| 214/214 [00:26<00:00,  7.96it/s, Loss 0.8286]\n",
            "Test Epoch 26: 100%|██████████| 54/54 [00:03<00:00, 17.55it/s, Test Loss 1.3843]\n",
            "Epoch 27: 100%|██████████| 214/214 [00:28<00:00,  7.48it/s, Loss 0.8053]\n",
            "Test Epoch 27: 100%|██████████| 54/54 [00:03<00:00, 17.32it/s, Test Loss 1.3994]\n",
            "Epoch 28: 100%|██████████| 214/214 [00:27<00:00,  7.80it/s, Loss 0.7823]\n",
            "Test Epoch 28: 100%|██████████| 54/54 [00:03<00:00, 17.54it/s, Test Loss 1.4161]\n",
            "Epoch 29: 100%|██████████| 214/214 [00:26<00:00,  7.99it/s, Loss 0.7598]\n",
            "Test Epoch 29: 100%|██████████| 54/54 [00:03<00:00, 17.63it/s, Test Loss 1.4294]\n",
            "Epoch 30: 100%|██████████| 214/214 [00:26<00:00,  7.96it/s, Loss 0.7386]\n",
            "Test Epoch 30: 100%|██████████| 54/54 [00:03<00:00, 17.30it/s, Test Loss 1.4434]\n"
          ]
        }
      ]
    },
    {
      "cell_type": "markdown",
      "source": [
        "# 4. 훈련 및 시각화"
      ],
      "metadata": {
        "id": "nvccZ761owAe"
      }
    },
    {
      "cell_type": "code",
      "source": [
        "def evaluate(sentence, encoder, decoder):\n",
        "    attention = np.zeros((dec_train.shape[-1], enc_train.shape[-1]))\n",
        "    \n",
        "    sentence = preprocess_sentence(sentence)\n",
        "    inputs = enc_tokenizer.texts_to_sequences([sentence.split()])\n",
        "    inputs = tf.keras.preprocessing.sequence.pad_sequences(inputs,\n",
        "                                                           maxlen=enc_train.shape[-1],\n",
        "                                                           padding='post')\n",
        "\n",
        "    result = ''\n",
        "\n",
        "    enc_out = encoder(inputs)\n",
        "\n",
        "    dec_hidden = enc_out[:, -1]\n",
        "    dec_input = tf.expand_dims([dec_tokenizer.word_index['<start>']], 0)\n",
        "\n",
        "    for t in range(dec_train.shape[-1]):\n",
        "        predictions, dec_hidden, attention_weights = decoder(dec_input,\n",
        "                                                             dec_hidden,\n",
        "                                                             enc_out)\n",
        "\n",
        "        attention_weights = tf.reshape(attention_weights, (-1, ))\n",
        "        attention[t] = attention_weights.numpy()\n",
        "\n",
        "        predicted_id = \\\n",
        "        tf.argmax(tf.math.softmax(predictions, axis=-1)[0]).numpy()\n",
        "\n",
        "        result += dec_tokenizer.index_word[predicted_id] + ' '\n",
        "\n",
        "        if dec_tokenizer.index_word[predicted_id] == '<end>':\n",
        "            return result, sentence, attention\n",
        "\n",
        "        dec_input = tf.expand_dims([predicted_id], 0)\n",
        "\n",
        "    return result, sentence, attention\n",
        "\n",
        "\n",
        "def plot_attention(attention, sentence, predicted_sentence):\n",
        "    fig = plt.figure(figsize=(10,10))\n",
        "    ax = fig.add_subplot(1, 1, 1)\n",
        "    ax.matshow(attention, cmap='viridis')\n",
        "\n",
        "    fontdict = {'fontsize': 14}\n",
        "\n",
        "    ax.set_xticklabels([''] + sentence, fontdict=fontdict, rotation=90)\n",
        "    ax.set_yticklabels([''] + predicted_sentence, fontdict=fontdict)\n",
        "\n",
        "    ax.xaxis.set_major_locator(ticker.MultipleLocator(1))\n",
        "    ax.yaxis.set_major_locator(ticker.MultipleLocator(1))\n",
        "\n",
        "    plt.show()\n",
        "\n",
        "\n",
        "def translate(sentence, encoder, decoder):\n",
        "    result, sentence, attention = evaluate(sentence, encoder, decoder)\n",
        "\n",
        "    print('Input: %s' % (sentence))\n",
        "    print('Predicted translation: {}'.format(result))\n",
        "    \n",
        "    attention = attention[:len(result.split()), :len(sentence.split())]\n",
        "    plot_attention(attention, sentence.split(), result.split(' '))"
      ],
      "metadata": {
        "id": "iva1xWLRXGa4"
      },
      "execution_count": null,
      "outputs": []
    },
    {
      "cell_type": "code",
      "source": [
        "!sudo apt-get install -y fonts-nanum\n",
        "!sudo fc-cache -fv\n",
        "!rm ~/.cache/matplotlib -rf"
      ],
      "metadata": {
        "colab": {
          "base_uri": "https://localhost:8080/"
        },
        "id": "dI0cDNxydpAF",
        "outputId": "fef85b43-c096-4c83-b535-5f3f689f886e"
      },
      "execution_count": null,
      "outputs": [
        {
          "output_type": "stream",
          "name": "stdout",
          "text": [
            "Reading package lists... Done\n",
            "Building dependency tree       \n",
            "Reading state information... Done\n",
            "fonts-nanum is already the newest version (20170925-1).\n",
            "0 upgraded, 0 newly installed, 0 to remove and 94 not upgraded.\n",
            "/usr/share/fonts: caching, new cache contents: 0 fonts, 1 dirs\n",
            "/usr/share/fonts/truetype: caching, new cache contents: 0 fonts, 3 dirs\n",
            "/usr/share/fonts/truetype/humor-sans: caching, new cache contents: 1 fonts, 0 dirs\n",
            "/usr/share/fonts/truetype/liberation: caching, new cache contents: 16 fonts, 0 dirs\n",
            "/usr/share/fonts/truetype/nanum: caching, new cache contents: 10 fonts, 0 dirs\n",
            "/usr/local/share/fonts: caching, new cache contents: 0 fonts, 0 dirs\n",
            "/root/.local/share/fonts: skipping, no such directory\n",
            "/root/.fonts: skipping, no such directory\n",
            "/var/cache/fontconfig: cleaning cache directory\n",
            "/root/.cache/fontconfig: not cleaning non-existent cache directory\n",
            "/root/.fontconfig: not cleaning non-existent cache directory\n",
            "fc-cache: succeeded\n"
          ]
        }
      ]
    },
    {
      "cell_type": "code",
      "source": [
        "import matplotlib.pyplot as plt\n",
        "\n",
        "plt.rc('font', family='NanumBarunGothic') "
      ],
      "metadata": {
        "id": "cYXq991Ydx-Q"
      },
      "execution_count": null,
      "outputs": []
    },
    {
      "cell_type": "code",
      "source": [
        "# import matplotlib.pyplot as plt\n",
        "# import matplotlib.font_manager as fm\n",
        "# font_location = 'C:/Windows/Fonts/NanumGothic.ttf'  #font 경로 설정\n",
        "# font_name = fm.FontProperties(fname=font_location).get_name()\n",
        "# plt.rc('font', family=font_name)\n",
        "\n",
        "# import matplotlib.pyplot as plt\n",
        "# import matplotlib.font_manager as fm\n",
        "# font_location = 'C:/Windows/Fonts/NanumBarunGothic.ttf'  #font 경로 설정\n",
        "# font_name = fm.FontProperties(fname=font_location).get_name()\n",
        "# plt.rc('font', family=font_name)\n",
        "\n",
        "# fontpath = '/usr/share/fonts/truetype/nanum/NanumBarunGothic.ttf'\n",
        "# font = fm.FontProperties(fname=fontpath, size=9)\n",
        "# plt.rc('font', family='NanumBarunGothic')\n",
        "# mpl.font_manager._rebuild()"
      ],
      "metadata": {
        "id": "DPIgpgzAXGYZ"
      },
      "execution_count": null,
      "outputs": []
    },
    {
      "cell_type": "code",
      "source": [
        "translate(\"집에 가는 길은 이쪽입니다.\", encoder, decoder)"
      ],
      "metadata": {
        "colab": {
          "base_uri": "https://localhost:8080/",
          "height": 685
        },
        "id": "b9SRfBL2XGWB",
        "outputId": "2bb4194a-ec5e-43f6-c848-5c9eef5a5e0a"
      },
      "execution_count": null,
      "outputs": [
        {
          "output_type": "stream",
          "name": "stdout",
          "text": [
            "Input: 집에 가는 길은 이쪽입니다 .\n",
            "Predicted translation: he s mother . <end> \n"
          ]
        },
        {
          "output_type": "display_data",
          "data": {
            "text/plain": [
              "<Figure size 720x720 with 1 Axes>"
            ],
            "image/png": "[encoded data removed]"
          },
          "metadata": {
            "needs_background": "light"
          }
        }
      ]
    },
    {
      "cell_type": "code",
      "source": [
        "translate(\"개인용 컴퓨터 사용의 상당 부분은 \\'이것보다 뛰어날 수 있느냐?'\", encoder, decoder)"
      ],
      "metadata": {
        "colab": {
          "base_uri": "https://localhost:8080/",
          "height": 575
        },
        "id": "uEwiuQZvXGTg",
        "outputId": "d0f1714d-991f-4bcb-fd31-15ef8126ad41"
      },
      "execution_count": null,
      "outputs": [
        {
          "output_type": "stream",
          "name": "stdout",
          "text": [
            "Input: 개인용 컴퓨터 사용의 상당 부분은 이것보다 뛰어날 수 있느냐 ?\n",
            "Predicted translation: we are not like the film . <end> \n"
          ]
        },
        {
          "output_type": "display_data",
          "data": {
            "text/plain": [
              "<Figure size 720x720 with 1 Axes>"
            ],
            "image/png": "[encoded data removed]"
          },
          "metadata": {
            "needs_background": "light"
          }
        }
      ]
    },
    {
      "cell_type": "code",
      "source": [
        "translate(\"불과 1,379년 전이다.\", encoder, decoder)"
      ],
      "metadata": {
        "colab": {
          "base_uri": "https://localhost:8080/",
          "height": 660
        },
        "id": "psXsSxS8XGRI",
        "outputId": "496e9fc5-d95a-4915-c9f6-234a3a33fc09"
      },
      "execution_count": null,
      "outputs": [
        {
          "output_type": "stream",
          "name": "stdout",
          "text": [
            "Input: 불과 년 전이다 .\n",
            "Predicted translation: it is a new york . <end> \n"
          ]
        },
        {
          "output_type": "display_data",
          "data": {
            "text/plain": [
              "<Figure size 720x720 with 1 Axes>"
            ],
            "image/png": "[encoded data removed]"
          },
          "metadata": {
            "needs_background": "light"
          }
        }
      ]
    },
    {
      "cell_type": "code",
      "source": [
        "translate(\"오바마는 대통령이다.\", encoder, decoder)"
      ],
      "metadata": {
        "colab": {
          "base_uri": "https://localhost:8080/",
          "height": 685
        },
        "id": "t5iZleNvXGO7",
        "outputId": "5d0e1f3f-3735-4638-ab54-7ae74473b068"
      },
      "execution_count": null,
      "outputs": [
        {
          "output_type": "stream",
          "name": "stdout",
          "text": [
            "Input: 오바마는 대통령이다 .\n",
            "Predicted translation: but it s . <end> \n"
          ]
        },
        {
          "output_type": "display_data",
          "data": {
            "text/plain": [
              "<Figure size 720x720 with 1 Axes>"
            ],
            "image/png": "[encoded data removed]"
          },
          "metadata": {
            "needs_background": "light"
          }
        }
      ]
    },
    {
      "cell_type": "code",
      "source": [
        "translate(\"시민들은 도시 속에 산다.\", encoder, decoder)"
      ],
      "metadata": {
        "colab": {
          "base_uri": "https://localhost:8080/",
          "height": 575
        },
        "id": "1TSTiXXEXGLr",
        "outputId": "cb966bfe-a733-489a-dcbb-f9015d661c67"
      },
      "execution_count": null,
      "outputs": [
        {
          "output_type": "stream",
          "name": "stdout",
          "text": [
            "Input: 시민들은 도시 속에 산다 .\n",
            "Predicted translation: he s . <end> \n"
          ]
        },
        {
          "output_type": "display_data",
          "data": {
            "text/plain": [
              "<Figure size 720x720 with 1 Axes>"
            ],
            "image/png": "[encoded data removed]"
          },
          "metadata": {
            "needs_background": "light"
          }
        }
      ]
    },
    {
      "cell_type": "code",
      "source": [
        "translate(\"커피는 필요 없다.\", encoder, decoder)"
      ],
      "metadata": {
        "colab": {
          "base_uri": "https://localhost:8080/",
          "height": 660
        },
        "id": "VbHJDDgJXGDw",
        "outputId": "8514346a-b07a-43e4-c882-5bf1b7516c60"
      },
      "execution_count": null,
      "outputs": [
        {
          "output_type": "stream",
          "name": "stdout",
          "text": [
            "Input: 커피는 필요 없다 .\n",
            "Predicted translation: obama said . <end> \n"
          ]
        },
        {
          "output_type": "display_data",
          "data": {
            "text/plain": [
              "<Figure size 720x720 with 1 Axes>"
            ],
            "image/png": "[encoded data removed]"
          },
          "metadata": {
            "needs_background": "light"
          }
        }
      ]
    },
    {
      "cell_type": "code",
      "source": [
        "translate(\"일곱 명의 사망자가 발생했다.\", encoder, decoder)"
      ],
      "metadata": {
        "colab": {
          "base_uri": "https://localhost:8080/",
          "height": 575
        },
        "id": "zl8aW2-AXX6F",
        "outputId": "2c0bd8b4-51b6-4ecc-a03b-1fed21526a2e"
      },
      "execution_count": null,
      "outputs": [
        {
          "output_type": "stream",
          "name": "stdout",
          "text": [
            "Input: 일곱 명의 사망자가 발생했다 .\n",
            "Predicted translation: the attack . <end> \n"
          ]
        },
        {
          "output_type": "display_data",
          "data": {
            "text/plain": [
              "<Figure size 720x720 with 1 Axes>"
            ],
            "image/png": "[encoded data removed]"
          },
          "metadata": {
            "needs_background": "light"
          }
        }
      ]
    },
    {
      "cell_type": "markdown",
      "source": [
        "# 루브릭\n",
        "- 번역기 모델 학습에 필요한 텍스트 데이터 전처리가 잘 되었다.\n",
        "\n",
        "- Attentional S2s 모델이 잘 구동되었다.\n",
        "\n",
        "- 테스트의 결과 의미가 통하는 수준의 번역문으로 완성되지 않았다.\n",
        "\n",
        "# 회고 \n",
        "- 데이터셋 자체의 신뢰가 낮은걸 알 수 있었다.\n",
        "- mecab은 항상 어려운거 같다.\n",
        "- attention 메커니즘에 대해서 직접 구성 할 수 있었지만, 여전히 어려운거 같다.\n",
        "- transformer로 학습 시키면 더 성능이 좋지 않을까?"
      ],
      "metadata": {
        "id": "7cDpMEnoo3kb"
      }
    }
  ]
}
